{
 "cells": [
  {
   "cell_type": "code",
   "execution_count": 1,
   "metadata": {},
   "outputs": [],
   "source": [
    "using DataFrames\n",
    "using CSV"
   ]
  },
  {
   "cell_type": "code",
   "execution_count": 2,
   "metadata": {},
   "outputs": [
    {
     "data": {
      "text/plain": [
       "Main.DataProc"
      ]
     },
     "execution_count": 2,
     "metadata": {},
     "output_type": "execute_result"
    }
   ],
   "source": [
    "include(\"../src/DataProc.jl\") # load in module DataProc"
   ]
  },
  {
   "cell_type": "code",
   "execution_count": 3,
   "metadata": {},
   "outputs": [
    {
     "data": {
      "text/html": [
       "<table class=\"data-frame\"><thead><tr><th></th><th>date</th><th>open</th><th>high</th><th>low</th><th>close</th><th>volume</th><th>changed</th><th>ret</th><th>adjclose</th><th>tradeval</th><th>tradevol</th></tr></thead><tbody><tr><th>1</th><td>2018-02-01</td><td>281.07</td><td>283.06</td><td>280.68</td><td>281.58</td><td>90102470</td><td>-0.317</td><td>-0.0011</td><td>279.204</td><td>2.53831e10</td><td>304908</td></tr><tr><th>2</th><td>2018-01-31</td><td>282.73</td><td>283.3</td><td>280.68</td><td>281.9</td><td>118948131</td><td>0.139</td><td>0.0005</td><td>279.521</td><td>3.35293e10</td><td>363005</td></tr><tr><th>3</th><td>2018-01-30</td><td>282.6</td><td>284.736</td><td>281.22</td><td>281.76</td><td>131796419</td><td>-2.895</td><td>-0.0103</td><td>279.382</td><td>3.71823e10</td><td>383528</td></tr></tbody></table>"
      ],
      "text/plain": [
       "3×11 DataFrame. Omitted printing of 4 columns\n",
       "│ Row │ date       │ open   │ high    │ low    │ close  │ volume    │ changed │\n",
       "├─────┼────────────┼────────┼─────────┼────────┼────────┼───────────┼─────────┤\n",
       "│ 1   │ 2018-02-01 │ 281.07 │ 283.06  │ 280.68 │ 281.58 │ 90102470  │ -0.317  │\n",
       "│ 2   │ 2018-01-31 │ 282.73 │ 283.3   │ 280.68 │ 281.9  │ 118948131 │ 0.139   │\n",
       "│ 3   │ 2018-01-30 │ 282.6  │ 284.736 │ 281.22 │ 281.76 │ 131796419 │ -2.895  │"
      ]
     },
     "execution_count": 3,
     "metadata": {},
     "output_type": "execute_result"
    }
   ],
   "source": [
    "DataFrames.head(DataProc.getquotemedia(symbol = \"SPY\"), 3)"
   ]
  },
  {
   "cell_type": "code",
   "execution_count": 4,
   "metadata": {},
   "outputs": [
    {
     "data": {
      "text/html": [
       "<table class=\"data-frame\"><thead><tr><th></th><th>date</th><th>SPY</th><th>EFA</th><th>VOO</th><th>IVV</th><th>TLT</th><th>TIP</th><th>IVE</th><th>XLE</th><th>XLI</th><th>XLK</th><th>XLF</th></tr></thead><tbody><tr><th>1</th><td>2017-12-29</td><td>-0.0038</td><td>0.0007</td><td>-0.0035</td><td>-0.0035</td><td>0.0016</td><td>0.0025</td><td>-0.0029</td><td>-0.0029</td><td>-0.0018</td><td>-0.0053</td><td>-0.0071</td></tr><tr><th>2</th><td>2017-12-28</td><td>0.0021</td><td>0.0006</td><td>0.0019</td><td>0.0019</td><td>-0.0009</td><td>0.0004</td><td>0.0021</td><td>0.0015</td><td>0.002</td><td>0.0017</td><td>0.0039</td></tr><tr><th>3</th><td>2017-12-27</td><td>0.0005</td><td>0.0019</td><td>0.0006</td><td>0.0006</td><td>0.013</td><td>0.0041</td><td>-0.0003</td><td>-0.0033</td><td>0.0024</td><td>0.0011</td><td>0.0011</td></tr></tbody></table>"
      ],
      "text/plain": [
       "3×12 DataFrame. Omitted printing of 5 columns\n",
       "│ Row │ date       │ SPY     │ EFA    │ VOO     │ IVV     │ TLT     │ TIP    │\n",
       "├─────┼────────────┼─────────┼────────┼─────────┼─────────┼─────────┼────────┤\n",
       "│ 1   │ 2017-12-29 │ -0.0038 │ 0.0007 │ -0.0035 │ -0.0035 │ 0.0016  │ 0.0025 │\n",
       "│ 2   │ 2017-12-28 │ 0.0021  │ 0.0006 │ 0.0019  │ 0.0019  │ -0.0009 │ 0.0004 │\n",
       "│ 3   │ 2017-12-27 │ 0.0005  │ 0.0019 │ 0.0006  │ 0.0006  │ 0.013   │ 0.0041 │"
      ]
     },
     "execution_count": 4,
     "metadata": {},
     "output_type": "execute_result"
    }
   ],
   "source": [
    "table = DataProc.getlogreturn([\"SPY\", \"EFA\", \"VOO\", \"IVV\", \"TLT\", \"TIP\", \"IVE\", \"XLE\", \"XLI\", \"XLK\", \"XLF\"])\n",
    "DataFrames.head(table, 3)"
   ]
  },
  {
   "cell_type": "code",
   "execution_count": 5,
   "metadata": {},
   "outputs": [],
   "source": [
    "file = \"../data/example.csv\"\n",
    "CSV.write(file, table)\n",
    "# file = string(realpath(dirname(@__FILE__)*\"/..\"), \"/data/test.csv\") # if in a .jl file"
   ]
  }
 ],
 "metadata": {
  "kernelspec": {
   "display_name": "Julia 1.0.0",
   "language": "julia",
   "name": "julia-1.0"
  },
  "language_info": {
   "file_extension": ".jl",
   "mimetype": "application/julia",
   "name": "julia",
   "version": "1.0.0"
  }
 },
 "nbformat": 4,
 "nbformat_minor": 2
}
